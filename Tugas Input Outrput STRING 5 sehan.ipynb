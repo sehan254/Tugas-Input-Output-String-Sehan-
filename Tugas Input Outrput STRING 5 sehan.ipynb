{
 "cells": [
  {
   "cell_type": "code",
   "execution_count": 5,
   "id": "e5a359f9-0bcb-471b-85ab-384b25960c03",
   "metadata": {},
   "outputs": [
    {
     "name": "stdin",
     "output_type": "stream",
     "text": [
      "masukan nama : Nala Rahma Sena\n",
      "tanggal lahir:  23 Agustus 2005\n",
      "jenis kelamin:  Perempuan\n",
      "alamat:  jl.Cikerti \n"
     ]
    },
    {
     "name": "stdout",
     "output_type": "stream",
     "text": [
      "Nama: Nala Rahma Sena  Tanggal_Lahir: 23 Agustus 2005  Jenis_Kelamin:Perempuan  Alamat:jl.Cikerti \n"
     ]
    }
   ],
   "source": [
    "Nama = input(\"masukan nama :\")\n",
    "Tanggal_Lahir = input(\"tanggal lahir: \")\n",
    "Jenis_Kelamin = input(\"jenis kelamin: \")\n",
    "Alamat = input(\"alamat: \")\n",
    "\n",
    "#output\n",
    "biodata = \"Nama: {}  Tanggal_Lahir: {}  Jenis_Kelamin:{}  Alamat:{}\".format(Nama,Tanggal_Lahir,Jenis_Kelamin,Alamat)\n",
    "print(biodata)"
   ]
  },
  {
   "cell_type": "code",
   "execution_count": 10,
   "id": "9664bc72-69b0-446d-a14e-0ceb49e25a3f",
   "metadata": {},
   "outputs": [
    {
     "name": "stdout",
     "output_type": "stream",
     "text": [
      "putra nusa \n",
      "NIVERSITAS NSA PTRA SKABUMI\n",
      "SUKABUMI PUTRA NUSA UNIVERSITAS \n",
      "UNPS\n",
      "TAS SAPU BUMI\n"
     ]
    }
   ],
   "source": [
    "univ =\"UNIVERSITAS NUSA PUTRA SUKABUMI\" \n",
    "kalimat1 =univ.lower ()\n",
    "print (kalimat1[17:22],kalimat1[12:17])\n",
    "kalimat2 = univ.upper ()\n",
    "print (kalimat2[1:11],kalimat2[12]+kalimat2[14:16],kalimat2[17]+kalimat2[19:22],kalimat2[23]+kalimat2[25:31])\n",
    "kalimat3 = univ.upper ()\n",
    "print(kalimat3[23:31],kalimat3[17:22],kalimat3[12:16],univ [0:12])\n",
    "kalimat4 = univ.upper ()\n",
    "print (kalimat3[0]+kalimat3[12]+kalimat3[17]+kalimat3[23])\n",
    "kalimat4 = univ.upper ()\n",
    "print (kalimat4[8:11],kalimat4[14:16]+kalimat4[17:19],kalimat4[27:])"
   ]
  },
  {
   "cell_type": "code",
   "execution_count": null,
   "id": "17b1ad05-3131-4f22-b033-c580bc233756",
   "metadata": {},
   "outputs": [],
   "source": []
  }
 ],
 "metadata": {
  "kernelspec": {
   "display_name": "Python 3 (ipykernel)",
   "language": "python",
   "name": "python3"
  },
  "language_info": {
   "codemirror_mode": {
    "name": "ipython",
    "version": 3
   },
   "file_extension": ".py",
   "mimetype": "text/x-python",
   "name": "python",
   "nbconvert_exporter": "python",
   "pygments_lexer": "ipython3",
   "version": "3.11.7"
  }
 },
 "nbformat": 4,
 "nbformat_minor": 5
}
